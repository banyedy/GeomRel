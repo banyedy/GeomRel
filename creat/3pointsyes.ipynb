{
 "cells": [
  {
   "cell_type": "code",
   "execution_count": 4,
   "metadata": {},
   "outputs": [],
   "source": [
    "# 生成与AB必不共线的一条直线\n",
    "pool1 = [\n",
    "    {\"problem\": \"line AB intersects line CD at point E\", \"outputline\": \"CD\"},\n",
    "    {\"problem\": \"quadrilateral ABCD with diagonals intersecting at point E\", \"outputline\": \"AC\"},\n",
    "    {\"problem\": \"angle ABC is acute\", \"outputline\": \"BC\"},\n",
    "    {\"problem\": \"points A, B, and C form an obtuse triangle\", \"outputline\": \"BC\"},\n",
    "    {\"problem\": \"line AB is the perpendicular bisector of segment CD\", \"outputline\": \"CD\"},\n",
    "    {\"problem\": \"triangle ABC is right-angled with ∠B = 90°\", \"outputline\": \"BC\"},\n",
    "    {\"problem\": \"points A, B, C, and D are concyclic\", \"outputline\": \"AC\"},\n",
    "    {\"problem\": \"line AB is the angle bisector of ∠CBD\", \"outputline\": \"BD\"},\n",
    "    {\"problem\": \"triangle ABC is inscribed in circle O\", \"outputline\": \"AC\"},\n",
    "    {\"problem\": \"points A, B, and C are collinear but not on the same line\", \"outputline\": \"BC\"},\n",
    "    {\"problem\": \"quadrilateral ABCD is a parallelogram\", \"outputline\": \"CD\"},\n",
    "    {\"problem\": \"line AB is the altitude of triangle ACD\", \"outputline\": \"AC\"},\n",
    "    {\"problem\": \"points A, B, C, and D are coplanar but not collinear\", \"outputline\": \"BC\"},\n",
    "    {\"problem\": \"line AB is the median of triangle ACD\", \"outputline\": \"AC\"},\n",
    "    {\"problem\": \"triangle ABC with incenter at point I\", \"outputline\": \"BI\"},\n",
    "    {\"problem\": \"points A, B, and C form an equiangular triangle\", \"outputline\": \"BC\"},\n",
    "    {\"problem\": \"line AB is the external bisector of ∠CBD\", \"outputline\": \"BD\"},\n",
    "    {\"problem\": \"circle O passes through points A, B, and C\", \"outputline\": \"AC\"},\n",
    "    {\"problem\": \"triangle ABC is right-angled with ∠C = 90°\", \"outputline\": \"BC\"},\n",
    "    {\"problem\": \"points A, B, C, and D are vertices of a regular polygon\", \"outputline\": \"CD\"},\n",
    "    {\"problem\": \"line AB is the angle bisector of ∠BCD\", \"outputline\": \"BD\"},\n",
    "    {\"problem\": \"triangle ABC with circumcenter at point O\", \"outputline\": \"AC\"},\n",
    "    {\"problem\": \"points A, B, C, and D are vertices of a convex quadrilateral\", \"outputline\": \"AC\"},\n",
    "    {\"problem\": \"line AB is tangent to circle O at point D\", \"outputline\": \"OD\"},\n",
    "    {\"problem\": \"triangle ABC with centroid at point G\", \"outputline\": \"BG\"},\n",
    "    {\"problem\": \"points A, B, C, and D are concyclic and form a cyclic quadrilateral\", \"outputline\": \"AC\"},\n",
    "    {\"problem\": \"line AB is the angle bisector of ∠ACD\", \"outputline\": \"AD\"}\n",
    "]\n",
    "for i in pool1:\n",
    "    i[\"intputline\"] = \"AB\""
   ]
  },
  {
   "cell_type": "code",
   "execution_count": 5,
   "metadata": {},
   "outputs": [
    {
     "data": {
      "text/plain": [
       "378"
      ]
     },
     "execution_count": 5,
     "metadata": {},
     "output_type": "execute_result"
    }
   ],
   "source": [
    "# 交换ACE的顺序也可以满足条件\n",
    "# E是直线AC上一点\n",
    "pool2 = [\"triangle ABC, BE is the altitude from vertex B to side AC, with E as the foot of the perpendicular\",\n",
    "\"quadrilateral AGCH, point E is the intersection of AC and HG\",\n",
    "\"a circle with center A intersects AC at points E and F\",\n",
    "\"in triangle ABC, point E is the midpoint of AC\",\n",
    "\"triangle ABC, with BE as the altitude from vertex B to side AC\",\n",
    "\"in isosceles trapezoid ABCD, with AB || CD and AD = BC, E is the intersection of AC and BD\",\n",
    "\"triangle ABC is isosceles with AB = AC, and point E lies on AC such that AE = EC\",\n",
    "\"triangle ABC is right-angled at A, with BE being the altitude drawn from vertex B to AC, and point E is the foot of this altitude\",\n",
    "\"point E is the midpoint of side AC in parallelogram ABCD\",\n",
    "\"in trapezoid ABCD with AB || DC, point E is the intersection of the diagonals AC\",\n",
    "\"in circle O, point E is a point on the circle where AC is a tangent, and E is the point of tangency\",\n",
    "\"in kite ABCD (where AD = AB and BC = CD), point E is the intersection of the diagonals AC and BD\",\n",
    "\"in regular pentagon ABCDE, point E is the intersection of diagonals AC and BD\",\n",
    "\"line AC is tangent to circle O at point E\"\n",
    "]\n",
    "\n",
    "len(pool2)*len(pool1)"
   ]
  },
  {
   "cell_type": "code",
   "execution_count": 21,
   "metadata": {},
   "outputs": [
    {
     "data": {
      "text/plain": [
       "'ed '"
      ]
     },
     "execution_count": 21,
     "metadata": {},
     "output_type": "execute_result"
    }
   ],
   "source": [
    "# 三点共线的条件，同一个池子用两次"
   ]
  },
  {
   "cell_type": "code",
   "execution_count": 2,
   "metadata": {},
   "outputs": [
    {
     "data": {
      "text/plain": [
       "'In kite ABCD (where AD = AB and BC = CD), point E is the intersection of the diagonals AC and BD, line AE is tangent to circle G at point F. Are points A, C, and F collinear? Answer choices:A. Yes B. No C. Cannot be inferred'"
      ]
     },
     "execution_count": 2,
     "metadata": {},
     "output_type": "execute_result"
    }
   ],
   "source": [
    "import string,re,random\n",
    "totallist = list(string.ascii_uppercase)\n",
    "\n",
    "def capitalize_first_letter(input_string):\n",
    "    # 大写首字母\n",
    "    if len(input_string) > 0:\n",
    "        return input_string[0].upper() + input_string[1:]\n",
    "    else:\n",
    "        return input_string\n",
    "\n",
    "def used_point(string):\n",
    "    uppercase_letters = re.findall(r'[A-Z]', string)\n",
    "    return list(dict.fromkeys(uppercase_letters))\n",
    "\n",
    "def connext(string1,string2):\n",
    "    # print(string2)\n",
    "    # 首先restlist是两个条件中都没出现过的点\n",
    "    restlist = []\n",
    "    for i in totallist:\n",
    "        if i not in string1+string2:\n",
    "            restlist.append(i)\n",
    "    # print(restlist,restlist[0])\n",
    "    # 找衔接直线表达，选BE、AE中的一个\n",
    "    pivot_point = random.choice([\"CE\",\"AE\"])\n",
    "    former_point = restlist[0]\n",
    "    string2=string2.replace(\"E\",restlist[0])\n",
    "    restlist = restlist[1:]\n",
    "\n",
    "    \n",
    "    string2=string2.replace(\"C\",pivot_point[1])\n",
    "    string2=string2.replace(\"A\",pivot_point[0])\n",
    "    # print(string2)\n",
    "    for i in used_point(string2):\n",
    "\n",
    "        if i not in pivot_point+former_point:\n",
    "            string2=string2.replace(i,restlist[0])\n",
    "            restlist = restlist[1:]\n",
    "\n",
    "    choose_part = \"Answer choices:A. Yes B. No C. Cannot be inferred\"\n",
    "    options = [string1+\", \"+ string2+\". \"+\"Are points A, C, and \"+former_point + \" collinear?\\n\"+choose_part,\n",
    "               string1+\", \"+ string2+\". \"+\"Are points A, C, and \"+former_point + \" collinear?\\n\"+choose_part,\n",
    "               string1+\", \"+ string2+\". \"+\"Do points A, C, and \"+former_point + \" lie on the same line?\\n\"+choose_part,\n",
    "               string1+\", \"+ string2+\". \"+\"Is point \"+former_point + \" on the line AC?\\n\"+choose_part,\n",
    "               string1+\", \"+ string2+\". \"+\"Is point C on the line A\"+former_point + \"?\\n\"+choose_part,\n",
    "               string1+\", \"+ string2+\". \"+\"Are lines AC and A\"+former_point + \" the same line?\\n\"+choose_part\n",
    "               ]\n",
    "    return capitalize_first_letter(random.choice(options))\n",
    "            \n",
    "# for p,q in zip(pool1,pool2):\n",
    "#     print(connext(p,q))\n",
    "\n",
    "connext(\"in kite ABCD (where AD = AB and BC = CD), point E is the intersection of the diagonals AC and BD\", \n",
    "\"line AC is tangent to circle O at point E\")\n",
    "# 不使用重复的点因为防止图形重叠，减小难度"
   ]
  },
  {
   "cell_type": "code",
   "execution_count": 6,
   "metadata": {},
   "outputs": [],
   "source": [
    "# 写入\n",
    "import jsonlines\n",
    "with jsonlines.open(\"points.jsonl\", 'a') as writer:\n",
    "\tfor i in pool2:\n",
    "\t\tfor j in pool2:\n",
    "\t\t\tif i!=j:\n",
    "\t\t\t\ttmpdict = dict()\n",
    "\t\t\t\ttmpdict[\"problem\"] = connext(i,j)\n",
    "\t\t\t\ttmpdict[\"answer\"] = \"A\"\n",
    "\t\t\t\twriter.write(tmpdict)"
   ]
  },
  {
   "cell_type": "code",
   "execution_count": 2,
   "metadata": {},
   "outputs": [
    {
     "name": "stdout",
     "output_type": "stream",
     "text": [
      "\n",
      "\n"
     ]
    }
   ],
   "source": [
    "print(\"\\n\")"
   ]
  },
  {
   "cell_type": "code",
   "execution_count": null,
   "metadata": {},
   "outputs": [],
   "source": []
  }
 ],
 "metadata": {
  "kernelspec": {
   "display_name": "Python 3",
   "language": "python",
   "name": "python3"
  },
  "language_info": {
   "codemirror_mode": {
    "name": "ipython",
    "version": 3
   },
   "file_extension": ".py",
   "mimetype": "text/x-python",
   "name": "python",
   "nbconvert_exporter": "python",
   "pygments_lexer": "ipython3",
   "version": "3.11.4"
  },
  "orig_nbformat": 4
 },
 "nbformat": 4,
 "nbformat_minor": 2
}
